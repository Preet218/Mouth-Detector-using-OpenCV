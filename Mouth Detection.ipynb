{
 "cells": [
  {
   "cell_type": "code",
   "execution_count": 2,
   "metadata": {},
   "outputs": [],
   "source": [
    "import cv2\n",
    "import numpy as np"
   ]
  },
  {
   "cell_type": "code",
   "execution_count": 4,
   "metadata": {
    "scrolled": true
   },
   "outputs": [],
   "source": [
    "mouth_cascade = cv2.CascadeClassifier(cv2.data.haarcascades + 'haarcascade_smile.xml')\n",
    "\n",
    "if mouth_cascade.empty():\n",
    "    raise IOError('Unable to load the mouth cascade classifier xml file')\n",
    "\n",
    "cap = cv2.VideoCapture(0)\n",
    "ds_factor = 0.5\n",
    "\n",
    "frameWidth = 4500\n",
    "frameHeight = 3600\n",
    "cap.set(3, frameWidth)\n",
    "cap.set(4, frameHeight)\n",
    "cap.set(10, 130)\n",
    "\n",
    "# fourcc = cv2.VideoWriter_fourcc(*'MJPG')\n",
    "# out = cv2.VideoWriter('output.avi',fourcc, 20.0, (int(cap.get(3)),int(cap.get(4))), isColor = True)\n",
    "\n",
    "while True:\n",
    "    flag = True\n",
    "    ret, frame = cap.read()\n",
    "    frame = cv2.resize(frame, None, fx=ds_factor, fy=ds_factor, interpolation=cv2.INTER_AREA)\n",
    "    gray = cv2.cvtColor(frame, cv2.COLOR_BGR2GRAY)\n",
    "    \n",
    "    mouth_rects = mouth_cascade.detectMultiScale(gray, 1.1, 11)\n",
    "    for (x,y,w,h) in mouth_rects:\n",
    "        if h > 36:\n",
    "            cv2.imshow('Mouth Detector', gray)\n",
    "#             out.write(gray) \n",
    "            flag = False\n",
    "        else:\n",
    "            cv2.circle(frame, (int(x+0.1*w),y), 3, (0,0,255), 3)\n",
    "            cv2.circle(frame, (int(x+0.9*w),y), 3, (0,0,255), 3)\n",
    "        break\n",
    "    if flag:\n",
    "        cv2.imshow('Mouth Detector', frame)\n",
    "#         out.write(frame) \n",
    "\n",
    "    if cv2.waitKey(1) & 0xFF == ord('q'):\n",
    "        break\n",
    "\n",
    "cap.release()\n",
    "# out.release()\n",
    "cv2.destroyAllWindows()"
   ]
  }
 ],
 "metadata": {
  "kernelspec": {
   "display_name": "Python 3",
   "language": "python",
   "name": "python3"
  },
  "language_info": {
   "codemirror_mode": {
    "name": "ipython",
    "version": 3
   },
   "file_extension": ".py",
   "mimetype": "text/x-python",
   "name": "python",
   "nbconvert_exporter": "python",
   "pygments_lexer": "ipython3",
   "version": "3.8.1"
  }
 },
 "nbformat": 4,
 "nbformat_minor": 4
}
